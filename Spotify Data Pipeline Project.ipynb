{
 "cells": [
  {
   "cell_type": "code",
   "execution_count": 1,
   "id": "c070c104",
   "metadata": {},
   "outputs": [
    {
     "name": "stdout",
     "output_type": "stream",
     "text": [
      "Collecting spotipy\n",
      "  Downloading spotipy-2.23.0-py3-none-any.whl (29 kB)\n",
      "Requirement already satisfied: requests>=2.25.0 in /Library/Frameworks/Python.framework/Versions/3.10/lib/python3.10/site-packages (from spotipy) (2.31.0)\n",
      "Collecting redis>=3.5.3\n",
      "  Downloading redis-5.0.1-py3-none-any.whl (250 kB)\n",
      "\u001b[2K     \u001b[90m━━━━━━━━━━━━━━━━━━━━━━━━━━━━━━━━━━━━━━━\u001b[0m \u001b[32m250.3/250.3 kB\u001b[0m \u001b[31m2.1 MB/s\u001b[0m eta \u001b[36m0:00:00\u001b[0m00:01\u001b[0m00:01\u001b[0m\n",
      "\u001b[?25hRequirement already satisfied: urllib3>=1.26.0 in /Library/Frameworks/Python.framework/Versions/3.10/lib/python3.10/site-packages (from spotipy) (2.0.4)\n",
      "Requirement already satisfied: six>=1.15.0 in /Library/Frameworks/Python.framework/Versions/3.10/lib/python3.10/site-packages (from spotipy) (1.16.0)\n",
      "Collecting async-timeout>=4.0.2\n",
      "  Downloading async_timeout-4.0.3-py3-none-any.whl (5.7 kB)\n",
      "Requirement already satisfied: idna<4,>=2.5 in /Library/Frameworks/Python.framework/Versions/3.10/lib/python3.10/site-packages (from requests>=2.25.0->spotipy) (3.4)\n",
      "Requirement already satisfied: charset-normalizer<4,>=2 in /Library/Frameworks/Python.framework/Versions/3.10/lib/python3.10/site-packages (from requests>=2.25.0->spotipy) (3.2.0)\n",
      "Requirement already satisfied: certifi>=2017.4.17 in /Library/Frameworks/Python.framework/Versions/3.10/lib/python3.10/site-packages (from requests>=2.25.0->spotipy) (2023.7.22)\n",
      "Installing collected packages: async-timeout, redis, spotipy\n",
      "Successfully installed async-timeout-4.0.3 redis-5.0.1 spotipy-2.23.0\n",
      "\n",
      "\u001b[1m[\u001b[0m\u001b[34;49mnotice\u001b[0m\u001b[1;39;49m]\u001b[0m\u001b[39;49m A new release of pip available: \u001b[0m\u001b[31;49m22.2.2\u001b[0m\u001b[39;49m -> \u001b[0m\u001b[32;49m23.3.1\u001b[0m\n",
      "\u001b[1m[\u001b[0m\u001b[34;49mnotice\u001b[0m\u001b[1;39;49m]\u001b[0m\u001b[39;49m To update, run: \u001b[0m\u001b[32;49mpip3 install --upgrade pip\u001b[0m\n",
      "Note: you may need to restart the kernel to use updated packages.\n"
     ]
    }
   ],
   "source": [
    "pip install spotipy"
   ]
  },
  {
   "cell_type": "code",
   "execution_count": 1,
   "id": "7cef0e1c",
   "metadata": {},
   "outputs": [],
   "source": [
    "import spotipy\n",
    "from spotipy.oauth2 import SpotifyClientCredentials\n",
    "import pandas as pd"
   ]
  },
  {
   "cell_type": "code",
   "execution_count": 2,
   "id": "59562e62",
   "metadata": {},
   "outputs": [],
   "source": [
    "client_credentials_manager = SpotifyClientCredentials(client_id='0ad89ea6c6864526b034a7604b3aca6b', client_secret='c8aab367a79e4ec5bebaeea3807b1455')"
   ]
  },
  {
   "cell_type": "code",
   "execution_count": 3,
   "id": "cc85fb5f",
   "metadata": {},
   "outputs": [],
   "source": [
    "sp = spotipy.Spotify(client_credentials_manager = client_credentials_manager)"
   ]
  },
  {
   "cell_type": "code",
   "execution_count": 4,
   "id": "5fb19dbc",
   "metadata": {},
   "outputs": [],
   "source": [
    "playlist_link = 'https://open.spotify.com/playlist/0Y9DWZ34PToWTM6wpChRGu'"
   ]
  },
  {
   "cell_type": "code",
   "execution_count": 5,
   "id": "ea1024ea",
   "metadata": {},
   "outputs": [],
   "source": [
    "playlist_URI = playlist_link.split('/')[4]"
   ]
  },
  {
   "cell_type": "code",
   "execution_count": 6,
   "id": "1e368c23",
   "metadata": {},
   "outputs": [],
   "source": [
    "data = sp.playlist_tracks(playlist_URI)"
   ]
  },
  {
   "cell_type": "code",
   "execution_count": 57,
   "id": "ad68466d",
   "metadata": {},
   "outputs": [
    {
     "data": {
      "text/plain": [
       "'3kBrgReuEedduqXf27qgn9'"
      ]
     },
     "execution_count": 57,
     "metadata": {},
     "output_type": "execute_result"
    }
   ],
   "source": [
    "data['items'][0]['track']['album']['id']"
   ]
  },
  {
   "cell_type": "code",
   "execution_count": 58,
   "id": "b1faa69a",
   "metadata": {},
   "outputs": [
    {
     "data": {
      "text/plain": [
       "'RRR'"
      ]
     },
     "execution_count": 58,
     "metadata": {},
     "output_type": "execute_result"
    }
   ],
   "source": [
    "data['items'][0]['track']['album']['name']"
   ]
  },
  {
   "cell_type": "code",
   "execution_count": 59,
   "id": "993b7a72",
   "metadata": {},
   "outputs": [
    {
     "data": {
      "text/plain": [
       "'2022-04-16'"
      ]
     },
     "execution_count": 59,
     "metadata": {},
     "output_type": "execute_result"
    }
   ],
   "source": [
    "data['items'][0]['track']['album']['release_date']"
   ]
  },
  {
   "cell_type": "code",
   "execution_count": 60,
   "id": "a01efe90",
   "metadata": {},
   "outputs": [
    {
     "data": {
      "text/plain": [
       "7"
      ]
     },
     "execution_count": 60,
     "metadata": {},
     "output_type": "execute_result"
    }
   ],
   "source": [
    "data['items'][0]['track']['album']['total_tracks']"
   ]
  },
  {
   "cell_type": "code",
   "execution_count": 61,
   "id": "017eb1e1",
   "metadata": {},
   "outputs": [
    {
     "data": {
      "text/plain": [
       "'https://open.spotify.com/album/3kBrgReuEedduqXf27qgn9'"
      ]
     },
     "execution_count": 61,
     "metadata": {},
     "output_type": "execute_result"
    }
   ],
   "source": [
    "data['items'][0]['track']['album']['external_urls']['spotify']"
   ]
  },
  {
   "cell_type": "code",
   "execution_count": 7,
   "id": "cdf6003f",
   "metadata": {},
   "outputs": [],
   "source": [
    "album_list=[]\n",
    "for row in data['items'] : \n",
    "    album_id = row['track']['album']['id']\n",
    "    album_name = row['track']['album']['name']\n",
    "    album_release_date = row['track']['album']['release_date']\n",
    "    album_total_tracks = row['track']['album']['total_tracks']\n",
    "    album_external_url = row['track']['album']['external_urls']['spotify']\n",
    "    album_element = {'album_id':album_id,'album_name':album_name,'album_release_date':album_release_date,'album_total_tracks':album_total_tracks,'album_external_url':album_external_url}\n",
    "    album_list.append(album_element)"
   ]
  },
  {
   "cell_type": "code",
   "execution_count": 8,
   "id": "2cae4f11",
   "metadata": {},
   "outputs": [],
   "source": [
    "artist_list =[]\n",
    "for row in data['items']:\n",
    "    for key,value in row.items():\n",
    "        if key == 'track':\n",
    "            for artist in value['artists']:\n",
    "                artist_dict = {'artist_id':artist['id'],'artist_name':artist['name'],'external_url':artist['href']}\n",
    "                artist_list.append(artist_dict)"
   ]
  },
  {
   "cell_type": "code",
   "execution_count": 9,
   "id": "70767a42",
   "metadata": {},
   "outputs": [],
   "source": [
    "album_df = pd.DataFrame.from_dict(album_list)"
   ]
  },
  {
   "cell_type": "code",
   "execution_count": 10,
   "id": "56e76169",
   "metadata": {},
   "outputs": [
    {
     "name": "stdout",
     "output_type": "stream",
     "text": [
      "<class 'pandas.core.frame.DataFrame'>\n",
      "RangeIndex: 100 entries, 0 to 99\n",
      "Data columns (total 5 columns):\n",
      " #   Column              Non-Null Count  Dtype \n",
      "---  ------              --------------  ----- \n",
      " 0   album_id            100 non-null    object\n",
      " 1   album_name          100 non-null    object\n",
      " 2   album_release_date  100 non-null    object\n",
      " 3   album_total_tracks  100 non-null    int64 \n",
      " 4   album_external_url  100 non-null    object\n",
      "dtypes: int64(1), object(4)\n",
      "memory usage: 4.0+ KB\n"
     ]
    }
   ],
   "source": [
    "album_df.info()"
   ]
  },
  {
   "cell_type": "code",
   "execution_count": 16,
   "id": "96f05b0f",
   "metadata": {},
   "outputs": [
    {
     "data": {
      "text/html": [
       "<div>\n",
       "<style scoped>\n",
       "    .dataframe tbody tr th:only-of-type {\n",
       "        vertical-align: middle;\n",
       "    }\n",
       "\n",
       "    .dataframe tbody tr th {\n",
       "        vertical-align: top;\n",
       "    }\n",
       "\n",
       "    .dataframe thead th {\n",
       "        text-align: right;\n",
       "    }\n",
       "</style>\n",
       "<table border=\"1\" class=\"dataframe\">\n",
       "  <thead>\n",
       "    <tr style=\"text-align: right;\">\n",
       "      <th></th>\n",
       "      <th>album_id</th>\n",
       "      <th>album_name</th>\n",
       "      <th>album_release_date</th>\n",
       "      <th>album_total_tracks</th>\n",
       "      <th>album_external_url</th>\n",
       "    </tr>\n",
       "  </thead>\n",
       "  <tbody>\n",
       "    <tr>\n",
       "      <th>0</th>\n",
       "      <td>3kBrgReuEedduqXf27qgn9</td>\n",
       "      <td>RRR</td>\n",
       "      <td>2022-04-16</td>\n",
       "      <td>7</td>\n",
       "      <td>https://open.spotify.com/album/3kBrgReuEedduqX...</td>\n",
       "    </tr>\n",
       "    <tr>\n",
       "      <th>1</th>\n",
       "      <td>1D5M0OXMaT1dV9MADSPgIg</td>\n",
       "      <td>Hungry Cheetah (From \"They Call Him OG\")</td>\n",
       "      <td>2023-09-03</td>\n",
       "      <td>1</td>\n",
       "      <td>https://open.spotify.com/album/1D5M0OXMaT1dV9M...</td>\n",
       "    </tr>\n",
       "    <tr>\n",
       "      <th>2</th>\n",
       "      <td>6D13wnr8nPxBHLalTHPrqG</td>\n",
       "      <td>Samayama (From \"Hi Nanna\")</td>\n",
       "      <td>2023-09-16</td>\n",
       "      <td>1</td>\n",
       "      <td>https://open.spotify.com/album/6D13wnr8nPxBHLa...</td>\n",
       "    </tr>\n",
       "    <tr>\n",
       "      <th>3</th>\n",
       "      <td>78bohc0Dzw7AoPpqVn9rsl</td>\n",
       "      <td>Kushi (Telugu)</td>\n",
       "      <td>2023-08-29</td>\n",
       "      <td>5</td>\n",
       "      <td>https://open.spotify.com/album/78bohc0Dzw7AoPp...</td>\n",
       "    </tr>\n",
       "    <tr>\n",
       "      <th>4</th>\n",
       "      <td>17wMf2mpkftir8reS5IOql</td>\n",
       "      <td>Jailer (Original Motion Picture Soundtrack)</td>\n",
       "      <td>2023-08-11</td>\n",
       "      <td>7</td>\n",
       "      <td>https://open.spotify.com/album/17wMf2mpkftir8r...</td>\n",
       "    </tr>\n",
       "    <tr>\n",
       "      <th>...</th>\n",
       "      <td>...</td>\n",
       "      <td>...</td>\n",
       "      <td>...</td>\n",
       "      <td>...</td>\n",
       "      <td>...</td>\n",
       "    </tr>\n",
       "    <tr>\n",
       "      <th>95</th>\n",
       "      <td>63daaBJK3Vbsih04pIgm4C</td>\n",
       "      <td>Amma Song (From Oke Oka Jeevitham) [From \"Oke ...</td>\n",
       "      <td>2022-01-26</td>\n",
       "      <td>1</td>\n",
       "      <td>https://open.spotify.com/album/63daaBJK3Vbsih0...</td>\n",
       "    </tr>\n",
       "    <tr>\n",
       "      <th>96</th>\n",
       "      <td>4iFurFyAPhOlzwQTc5aXN2</td>\n",
       "      <td>Master (Original Background Score)</td>\n",
       "      <td>2021-02-08</td>\n",
       "      <td>16</td>\n",
       "      <td>https://open.spotify.com/album/4iFurFyAPhOlzwQ...</td>\n",
       "    </tr>\n",
       "    <tr>\n",
       "      <th>97</th>\n",
       "      <td>66yiSqXHIYeK9PYldw1nTM</td>\n",
       "      <td>Yemunnave Pilla (From \"Nallamalla\")</td>\n",
       "      <td>2021-02-12</td>\n",
       "      <td>1</td>\n",
       "      <td>https://open.spotify.com/album/66yiSqXHIYeK9PY...</td>\n",
       "    </tr>\n",
       "    <tr>\n",
       "      <th>98</th>\n",
       "      <td>55E8cqjuYtnIvkRLd4LqcA</td>\n",
       "      <td>Bheemla Nayak</td>\n",
       "      <td>2021-09-20</td>\n",
       "      <td>1</td>\n",
       "      <td>https://open.spotify.com/album/55E8cqjuYtnIvkR...</td>\n",
       "    </tr>\n",
       "    <tr>\n",
       "      <th>99</th>\n",
       "      <td>6O4iLJC1eIZlpj4FwyXnio</td>\n",
       "      <td>Varudu Kaavalenu</td>\n",
       "      <td>2021-09-22</td>\n",
       "      <td>1</td>\n",
       "      <td>https://open.spotify.com/album/6O4iLJC1eIZlpj4...</td>\n",
       "    </tr>\n",
       "  </tbody>\n",
       "</table>\n",
       "<p>79 rows × 5 columns</p>\n",
       "</div>"
      ],
      "text/plain": [
       "                  album_id                                         album_name  \\\n",
       "0   3kBrgReuEedduqXf27qgn9                                                RRR   \n",
       "1   1D5M0OXMaT1dV9MADSPgIg           Hungry Cheetah (From \"They Call Him OG\")   \n",
       "2   6D13wnr8nPxBHLalTHPrqG                         Samayama (From \"Hi Nanna\")   \n",
       "3   78bohc0Dzw7AoPpqVn9rsl                                     Kushi (Telugu)   \n",
       "4   17wMf2mpkftir8reS5IOql        Jailer (Original Motion Picture Soundtrack)   \n",
       "..                     ...                                                ...   \n",
       "95  63daaBJK3Vbsih04pIgm4C  Amma Song (From Oke Oka Jeevitham) [From \"Oke ...   \n",
       "96  4iFurFyAPhOlzwQTc5aXN2                 Master (Original Background Score)   \n",
       "97  66yiSqXHIYeK9PYldw1nTM                Yemunnave Pilla (From \"Nallamalla\")   \n",
       "98  55E8cqjuYtnIvkRLd4LqcA                                      Bheemla Nayak   \n",
       "99  6O4iLJC1eIZlpj4FwyXnio                                   Varudu Kaavalenu   \n",
       "\n",
       "   album_release_date  album_total_tracks  \\\n",
       "0          2022-04-16                   7   \n",
       "1          2023-09-03                   1   \n",
       "2          2023-09-16                   1   \n",
       "3          2023-08-29                   5   \n",
       "4          2023-08-11                   7   \n",
       "..                ...                 ...   \n",
       "95         2022-01-26                   1   \n",
       "96         2021-02-08                  16   \n",
       "97         2021-02-12                   1   \n",
       "98         2021-09-20                   1   \n",
       "99         2021-09-22                   1   \n",
       "\n",
       "                                   album_external_url  \n",
       "0   https://open.spotify.com/album/3kBrgReuEedduqX...  \n",
       "1   https://open.spotify.com/album/1D5M0OXMaT1dV9M...  \n",
       "2   https://open.spotify.com/album/6D13wnr8nPxBHLa...  \n",
       "3   https://open.spotify.com/album/78bohc0Dzw7AoPp...  \n",
       "4   https://open.spotify.com/album/17wMf2mpkftir8r...  \n",
       "..                                                ...  \n",
       "95  https://open.spotify.com/album/63daaBJK3Vbsih0...  \n",
       "96  https://open.spotify.com/album/4iFurFyAPhOlzwQ...  \n",
       "97  https://open.spotify.com/album/66yiSqXHIYeK9PY...  \n",
       "98  https://open.spotify.com/album/55E8cqjuYtnIvkR...  \n",
       "99  https://open.spotify.com/album/6O4iLJC1eIZlpj4...  \n",
       "\n",
       "[79 rows x 5 columns]"
      ]
     },
     "execution_count": 16,
     "metadata": {},
     "output_type": "execute_result"
    }
   ],
   "source": [
    "album_df = album_df.drop_duplicates(subset=['album_id'])\n",
    "\n",
    "album_df"
   ]
  },
  {
   "cell_type": "code",
   "execution_count": 17,
   "id": "69719ee5",
   "metadata": {},
   "outputs": [
    {
     "data": {
      "text/html": [
       "<div>\n",
       "<style scoped>\n",
       "    .dataframe tbody tr th:only-of-type {\n",
       "        vertical-align: middle;\n",
       "    }\n",
       "\n",
       "    .dataframe tbody tr th {\n",
       "        vertical-align: top;\n",
       "    }\n",
       "\n",
       "    .dataframe thead th {\n",
       "        text-align: right;\n",
       "    }\n",
       "</style>\n",
       "<table border=\"1\" class=\"dataframe\">\n",
       "  <thead>\n",
       "    <tr style=\"text-align: right;\">\n",
       "      <th></th>\n",
       "      <th>artist_id</th>\n",
       "      <th>artist_name</th>\n",
       "      <th>external_url</th>\n",
       "    </tr>\n",
       "  </thead>\n",
       "  <tbody>\n",
       "    <tr>\n",
       "      <th>0</th>\n",
       "      <td>1H4ZvA2yyK7wCmbvEUWvPn</td>\n",
       "      <td>Rahul Sipligunj</td>\n",
       "      <td>https://api.spotify.com/v1/artists/1H4ZvA2yyK7...</td>\n",
       "    </tr>\n",
       "    <tr>\n",
       "      <th>1</th>\n",
       "      <td>4tejKImNVmDcORNBuZ1l14</td>\n",
       "      <td>Kala Bhairava</td>\n",
       "      <td>https://api.spotify.com/v1/artists/4tejKImNVmD...</td>\n",
       "    </tr>\n",
       "    <tr>\n",
       "      <th>2</th>\n",
       "      <td>2FgHPfRprDaylrSRVf1UlN</td>\n",
       "      <td>Thaman S</td>\n",
       "      <td>https://api.spotify.com/v1/artists/2FgHPfRprDa...</td>\n",
       "    </tr>\n",
       "    <tr>\n",
       "      <th>3</th>\n",
       "      <td>6LWyVEIBnx7MoRBhQxu9om</td>\n",
       "      <td>Anurag Kulkarni</td>\n",
       "      <td>https://api.spotify.com/v1/artists/6LWyVEIBnx7...</td>\n",
       "    </tr>\n",
       "    <tr>\n",
       "      <th>4</th>\n",
       "      <td>6fvMFyB3RMPEyKyLJAS79c</td>\n",
       "      <td>Sithara Krishnakumar</td>\n",
       "      <td>https://api.spotify.com/v1/artists/6fvMFyB3RMP...</td>\n",
       "    </tr>\n",
       "    <tr>\n",
       "      <th>...</th>\n",
       "      <td>...</td>\n",
       "      <td>...</td>\n",
       "      <td>...</td>\n",
       "    </tr>\n",
       "    <tr>\n",
       "      <th>249</th>\n",
       "      <td>00sCATpEvwH48ays7PlQFU</td>\n",
       "      <td>Jonita Gandhi</td>\n",
       "      <td>https://api.spotify.com/v1/artists/00sCATpEvwH...</td>\n",
       "    </tr>\n",
       "    <tr>\n",
       "      <th>254</th>\n",
       "      <td>2bfyLSCw72lQ5qoD8cdVBB</td>\n",
       "      <td>Sreerama Chandra</td>\n",
       "      <td>https://api.spotify.com/v1/artists/2bfyLSCw72l...</td>\n",
       "    </tr>\n",
       "    <tr>\n",
       "      <th>255</th>\n",
       "      <td>4YRxDV8wJFPHPTeXepOstw</td>\n",
       "      <td>Arijit Singh</td>\n",
       "      <td>https://api.spotify.com/v1/artists/4YRxDV8wJFP...</td>\n",
       "    </tr>\n",
       "    <tr>\n",
       "      <th>258</th>\n",
       "      <td>1SJOL9HJ08YOn92lFcYf8a</td>\n",
       "      <td>Shankar Mahadevan</td>\n",
       "      <td>https://api.spotify.com/v1/artists/1SJOL9HJ08Y...</td>\n",
       "    </tr>\n",
       "    <tr>\n",
       "      <th>265</th>\n",
       "      <td>3Q80PCEUBCiRhLSWdQApNt</td>\n",
       "      <td>Jakes Bejoy</td>\n",
       "      <td>https://api.spotify.com/v1/artists/3Q80PCEUBCi...</td>\n",
       "    </tr>\n",
       "  </tbody>\n",
       "</table>\n",
       "<p>150 rows × 3 columns</p>\n",
       "</div>"
      ],
      "text/plain": [
       "                  artist_id           artist_name  \\\n",
       "0    1H4ZvA2yyK7wCmbvEUWvPn       Rahul Sipligunj   \n",
       "1    4tejKImNVmDcORNBuZ1l14         Kala Bhairava   \n",
       "2    2FgHPfRprDaylrSRVf1UlN              Thaman S   \n",
       "3    6LWyVEIBnx7MoRBhQxu9om       Anurag Kulkarni   \n",
       "4    6fvMFyB3RMPEyKyLJAS79c  Sithara Krishnakumar   \n",
       "..                      ...                   ...   \n",
       "249  00sCATpEvwH48ays7PlQFU         Jonita Gandhi   \n",
       "254  2bfyLSCw72lQ5qoD8cdVBB      Sreerama Chandra   \n",
       "255  4YRxDV8wJFPHPTeXepOstw          Arijit Singh   \n",
       "258  1SJOL9HJ08YOn92lFcYf8a     Shankar Mahadevan   \n",
       "265  3Q80PCEUBCiRhLSWdQApNt           Jakes Bejoy   \n",
       "\n",
       "                                          external_url  \n",
       "0    https://api.spotify.com/v1/artists/1H4ZvA2yyK7...  \n",
       "1    https://api.spotify.com/v1/artists/4tejKImNVmD...  \n",
       "2    https://api.spotify.com/v1/artists/2FgHPfRprDa...  \n",
       "3    https://api.spotify.com/v1/artists/6LWyVEIBnx7...  \n",
       "4    https://api.spotify.com/v1/artists/6fvMFyB3RMP...  \n",
       "..                                                 ...  \n",
       "249  https://api.spotify.com/v1/artists/00sCATpEvwH...  \n",
       "254  https://api.spotify.com/v1/artists/2bfyLSCw72l...  \n",
       "255  https://api.spotify.com/v1/artists/4YRxDV8wJFP...  \n",
       "258  https://api.spotify.com/v1/artists/1SJOL9HJ08Y...  \n",
       "265  https://api.spotify.com/v1/artists/3Q80PCEUBCi...  \n",
       "\n",
       "[150 rows x 3 columns]"
      ]
     },
     "execution_count": 17,
     "metadata": {},
     "output_type": "execute_result"
    }
   ],
   "source": [
    "artist_df = pd.DataFrame.from_dict(artist_list)\n",
    "artist_df = artist_df.drop_duplicates(subset=['artist_id'])\n",
    "\n",
    "artist_df"
   ]
  },
  {
   "cell_type": "code",
   "execution_count": 15,
   "id": "493d1b56",
   "metadata": {},
   "outputs": [
    {
     "data": {
      "text/html": [
       "<div>\n",
       "<style scoped>\n",
       "    .dataframe tbody tr th:only-of-type {\n",
       "        vertical-align: middle;\n",
       "    }\n",
       "\n",
       "    .dataframe tbody tr th {\n",
       "        vertical-align: top;\n",
       "    }\n",
       "\n",
       "    .dataframe thead th {\n",
       "        text-align: right;\n",
       "    }\n",
       "</style>\n",
       "<table border=\"1\" class=\"dataframe\">\n",
       "  <thead>\n",
       "    <tr style=\"text-align: right;\">\n",
       "      <th></th>\n",
       "      <th>album_id</th>\n",
       "      <th>album_name</th>\n",
       "      <th>album_release_date</th>\n",
       "      <th>album_total_tracks</th>\n",
       "      <th>album_external_url</th>\n",
       "    </tr>\n",
       "  </thead>\n",
       "  <tbody>\n",
       "    <tr>\n",
       "      <th>0</th>\n",
       "      <td>3kBrgReuEedduqXf27qgn9</td>\n",
       "      <td>RRR</td>\n",
       "      <td>2022-04-16</td>\n",
       "      <td>7</td>\n",
       "      <td>https://open.spotify.com/album/3kBrgReuEedduqX...</td>\n",
       "    </tr>\n",
       "    <tr>\n",
       "      <th>1</th>\n",
       "      <td>1D5M0OXMaT1dV9MADSPgIg</td>\n",
       "      <td>Hungry Cheetah (From \"They Call Him OG\")</td>\n",
       "      <td>2023-09-03</td>\n",
       "      <td>1</td>\n",
       "      <td>https://open.spotify.com/album/1D5M0OXMaT1dV9M...</td>\n",
       "    </tr>\n",
       "    <tr>\n",
       "      <th>2</th>\n",
       "      <td>6D13wnr8nPxBHLalTHPrqG</td>\n",
       "      <td>Samayama (From \"Hi Nanna\")</td>\n",
       "      <td>2023-09-16</td>\n",
       "      <td>1</td>\n",
       "      <td>https://open.spotify.com/album/6D13wnr8nPxBHLa...</td>\n",
       "    </tr>\n",
       "    <tr>\n",
       "      <th>3</th>\n",
       "      <td>78bohc0Dzw7AoPpqVn9rsl</td>\n",
       "      <td>Kushi (Telugu)</td>\n",
       "      <td>2023-08-29</td>\n",
       "      <td>5</td>\n",
       "      <td>https://open.spotify.com/album/78bohc0Dzw7AoPp...</td>\n",
       "    </tr>\n",
       "    <tr>\n",
       "      <th>4</th>\n",
       "      <td>17wMf2mpkftir8reS5IOql</td>\n",
       "      <td>Jailer (Original Motion Picture Soundtrack)</td>\n",
       "      <td>2023-08-11</td>\n",
       "      <td>7</td>\n",
       "      <td>https://open.spotify.com/album/17wMf2mpkftir8r...</td>\n",
       "    </tr>\n",
       "  </tbody>\n",
       "</table>\n",
       "</div>"
      ],
      "text/plain": [
       "                 album_id                                   album_name  \\\n",
       "0  3kBrgReuEedduqXf27qgn9                                          RRR   \n",
       "1  1D5M0OXMaT1dV9MADSPgIg     Hungry Cheetah (From \"They Call Him OG\")   \n",
       "2  6D13wnr8nPxBHLalTHPrqG                   Samayama (From \"Hi Nanna\")   \n",
       "3  78bohc0Dzw7AoPpqVn9rsl                               Kushi (Telugu)   \n",
       "4  17wMf2mpkftir8reS5IOql  Jailer (Original Motion Picture Soundtrack)   \n",
       "\n",
       "  album_release_date  album_total_tracks  \\\n",
       "0         2022-04-16                   7   \n",
       "1         2023-09-03                   1   \n",
       "2         2023-09-16                   1   \n",
       "3         2023-08-29                   5   \n",
       "4         2023-08-11                   7   \n",
       "\n",
       "                                  album_external_url  \n",
       "0  https://open.spotify.com/album/3kBrgReuEedduqX...  \n",
       "1  https://open.spotify.com/album/1D5M0OXMaT1dV9M...  \n",
       "2  https://open.spotify.com/album/6D13wnr8nPxBHLa...  \n",
       "3  https://open.spotify.com/album/78bohc0Dzw7AoPp...  \n",
       "4  https://open.spotify.com/album/17wMf2mpkftir8r...  "
      ]
     },
     "execution_count": 15,
     "metadata": {},
     "output_type": "execute_result"
    }
   ],
   "source": [
    "album_df.head()"
   ]
  },
  {
   "cell_type": "code",
   "execution_count": 24,
   "id": "de390f0b",
   "metadata": {},
   "outputs": [
    {
     "data": {
      "text/plain": [
       "0    2022-04-16\n",
       "1    2023-09-03\n",
       "2    2023-09-16\n",
       "3    2023-08-29\n",
       "4    2023-08-11\n",
       "        ...    \n",
       "95   2022-01-26\n",
       "96   2021-02-08\n",
       "97   2021-02-12\n",
       "98   2021-09-20\n",
       "99   2021-09-22\n",
       "Name: album_release_date, Length: 79, dtype: datetime64[ns]"
      ]
     },
     "execution_count": 24,
     "metadata": {},
     "output_type": "execute_result"
    }
   ],
   "source": [
    "# album_df['album_release_date'] = pd.to_datetime(album_df['album_release_date'])\n",
    "\n",
    "album_df['album_release_date'] = pd.to_datetime(album_df['album_release_date'], errors='coerce', format='%Y-%m-%d')\n",
    "\n",
    "album_df['album_release_date']"
   ]
  },
  {
   "cell_type": "code",
   "execution_count": null,
   "id": "9aad496f",
   "metadata": {},
   "outputs": [],
   "source": []
  }
 ],
 "metadata": {
  "kernelspec": {
   "display_name": "Python 3 (ipykernel)",
   "language": "python",
   "name": "python3"
  },
  "language_info": {
   "codemirror_mode": {
    "name": "ipython",
    "version": 3
   },
   "file_extension": ".py",
   "mimetype": "text/x-python",
   "name": "python",
   "nbconvert_exporter": "python",
   "pygments_lexer": "ipython3",
   "version": "3.10.7"
  }
 },
 "nbformat": 4,
 "nbformat_minor": 5
}
